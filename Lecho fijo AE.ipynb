{
 "cells": [
  {
   "cell_type": "markdown",
   "metadata": {},
   "source": [
    "# Lecho fijo Actividad Especial\n",
    "Basado (*adaptado*) de un paper de *Santiago Ortiz-Laverde, Camilo Rengifo, Martha Cobo, y Manuel Figueredo*.  \n",
    "https://www.ncbi.nlm.nih.gov/pmc/articles/PMC7820488/#sec2.4.1.2  \n",
    "El reactor se modela como uno \"rectangular\" plano, osea de profundidad infinita.  \n",
    "Se puede modelar como un cilindro 3D pero muy costoso computacionalmente.  \n",
    "O se puede modelar con las ecuaciones dadas en coordenadas cilíndricas, pero 2D (tengo que re-escribir los balances para esto, ya que actualmente se usan los balances en cartesianas genéricos, osea para diferenciales de volumen $dxdydz$).\n",
    "\n",
    "La reacción es la hidrólisis de A para dar B. El agua está en exceso.  \n",
    "$A + Agua \\rightarrow B$\n",
    "\n",
    "$A: Reactivo$  \n",
    "$B: Producto$"
   ]
  },
  {
   "cell_type": "code",
   "execution_count": 1,
   "metadata": {},
   "outputs": [],
   "source": [
    "from fenics import *\n",
    "import numpy as np\n",
    "from IPython.display import clear_output\n",
    "import math as mt"
   ]
  },
  {
   "cell_type": "code",
   "execution_count": 2,
   "metadata": {},
   "outputs": [],
   "source": [
    "# Time-stepping\n",
    "t = 0.0\n",
    "tf =18000                    # Final time, sec\n",
    "num_steps = 200              # Number of time steps\n",
    "delta_t = tf / num_steps     # Time step size, sec\n",
    "dt = Constant(delta_t)\n",
    "\n",
    "PBR_L = 8       # Largo del reactor, m\n",
    "PBR_R = 0.3/2    # Radio del reactor, m\n",
    "\n",
    "mesh_elements_ratio=350"
   ]
  },
  {
   "cell_type": "code",
   "execution_count": 3,
   "metadata": {
    "scrolled": false
   },
   "outputs": [],
   "source": [
    "from mshr import *\n",
    "from dolfin import Mesh, File, MeshFunction, Point, BoundaryMesh, SubDomain, plot, File\n",
    "\n",
    "#cylinder = Cylinder(Point(0, 0, 0), Point(0, 0, PBR_L), PBR_R, PBR_R) #Cilindro (muy costoso computacionalmente)\n",
    "#geometry = cylinder                                                   #Con un mesh ratio mayor a 64 ya mi ram no da...\n",
    "#mesh = generate_mesh(geometry, mesh_elements_ratio)\n",
    "#File(\"mesh/mesh.pvd\") << mesh\n",
    "\n",
    "class boundary(SubDomain): #General\n",
    "    def inside(self, x, on_boundary):\n",
    "        return on_boundary\n",
    "class top_side(SubDomain): #1\n",
    "    def inside(self, x, on_boundary):\n",
    "        return near(x[1],PBR_L)\n",
    "class bottom_side(SubDomain): #2\n",
    "    def inside(self, x, on_boundary):\n",
    "        return near(x[1],0,1e-10)\n",
    "class left_side(SubDomain): #3\n",
    "    def inside(self, x, on_boundary):\n",
    "        return near(x[0],-PBR_R,1e-10)    \n",
    "class right_side(SubDomain): #3\n",
    "    def inside(self, x, on_boundary):\n",
    "        return near(x[0],PBR_R,1e-10)\n",
    "class pared_cilindro(SubDomain): #3\n",
    "    def inside(self, x, on_boundary):\n",
    "        return np.sqrt(x[0]**2+x[1]**2)==PBR_R-1e-8\n",
    "\n",
    "mesh = generate_mesh(Rectangle(Point(-PBR_R, 0), Point(PBR_R, PBR_L), ), mesh_elements_ratio)\n",
    "boundary_markers = MeshFunction(\"size_t\", mesh, mesh.topology().dim()-1, 0)\n",
    "#surface_markers = MeshFunction(\"size_t\", mesh, mesh.topology().dim(), 0)\n",
    "top_side().mark(boundary_markers, 1)\n",
    "bottom_side().mark(boundary_markers, 2)\n",
    "left_side().mark(boundary_markers, 3)\n",
    "right_side().mark(boundary_markers, 3)\n",
    "\n",
    "#Caso cilindro 3D #inestable # no resuelve # costoso\n",
    "#pared_cilindro().mark(boundary_markers, 3)\n",
    "\n",
    "#File(\"mesh/mesh.pvd\") << mesh\n",
    "#File(\"mesh/surface_marker.pvd\") << surface_markers\n",
    "File(\"mesh/boundary_marker.pvd\") << boundary_markers #para chequear boundaries\n",
    "\n",
    "Wallboundary_id = 3\n",
    "Inletboundary_id = 2\n",
    "\n",
    "#plot(mesh)"
   ]
  },
  {
   "cell_type": "code",
   "execution_count": 4,
   "metadata": {},
   "outputs": [],
   "source": [
    "# Define function spaces for PDEs variational formulation.\n",
    "P1 = FiniteElement('P', mesh.ufl_cell(), 1)  # Lagrange 1-order polynomials family\n",
    "element = MixedElement([P1, P1, P1])\n",
    "V = FunctionSpace(mesh, element)"
   ]
  },
  {
   "cell_type": "code",
   "execution_count": 5,
   "metadata": {},
   "outputs": [],
   "source": [
    "# Functions test y trial \n",
    "v_A, v_B, v_T = TestFunctions(V)  # Test functions\n",
    "u = Function(V)\n",
    "u_A, u_B, u_T = split(u)          # Trial functions, time step = n+1\n",
    "u_n = Function(V)                      # Trial functions, time step = n\n",
    "\n",
    "# Retrieve boundaries marks for Robin boundary conditions.\n",
    "ds_in = Measure(\"ds\", domain=mesh,\n",
    "                subdomain_data=boundary_markers, subdomain_id=Inletboundary_id)\n",
    "ds_wall = Measure(\"ds\", domain=mesh,\n",
    "                  subdomain_data=boundary_markers, subdomain_id=Wallboundary_id)\n",
    "\n",
    "\"\"\"Valores iniciales (t == 0.0)\"\"\"\n",
    "CAo = Constant(0.0)          # Comp. inicial para i\n",
    "CBo = Constant(0.0)          # \n",
    "To = Constant(298)           # Temperatura inicial del lecho\n",
    "\n",
    "u_0 = Expression(('CA_init', 'CB_init', 'T_init'),\n",
    "                 degree=0, CA_init=CAo, CB_init=CBo, T_init=To)\n",
    "u_n = interpolate(u_0, V)\n",
    "u_An, u_Bn, u_Tn = split(u_n)\n",
    "\n",
    "# Expresiones que luego aparecen en la forma variacional\n",
    "R = Constant(8.314)          # Constante de los Gases\n",
    "\n",
    "# Vector velocidad axial\n",
    "Q_vol=4.2e-5 #m3/s\n",
    "uz = Constant(Q_vol/(3.14159*np.power(PBR_R, 2)))\n",
    "#w = as_vector([0.0, uz]) #2D #Ya no es necesario\n",
    "#w = as_vector([0.0, 0.0, Vz]) #3D (cilindro) #Inestable, dificil que resuelva\n",
    "\n",
    "T_in = Constant(298)      # Temperatura de entrada de reactivos\n",
    "CA_in = Constant(0.05/4.2e-5)    #mol/m^3 #es 1190.476 mol/m3\n",
    "CB_in = Constant(0)\n",
    "#Tcool_in = Constant(625.15)  # Temperatura de entrada del fluido refrigerante\n",
    "\n",
    "\"\"\"Propiedades de Transporte\"\"\"\n",
    "#eps_b = Constant(0.35)         # epsilon_bulk (fracción de espacio vacío en lecho estimada)\n",
    "ker = Constant(1.7)    #W/m.K   # Conductividad R\n",
    "kez = Constant(1.7)    #W/m.K       # Conductividad R\n",
    "Der = Constant(1.3e-5)  #m2/s        # Difusividad R\n",
    "Dez = Constant(2.35e-7) #m2/s        # Difusividad Z\n",
    "CpM=Constant(75.36)  #J/mol.K #Cp mezcla\n",
    "rhoM=Constant(5.21e4)  #mol/m3   #Rho mezcla\n",
    "\n",
    "\"\"\"Parámetros cinéticos\"\"\"\n",
    "A_k=Constant(1.696*10**13/3600) #1/s\n",
    "Ea_k=Constant(78462.4) #J/mol\n",
    "DeltaH = Constant(-135666) #J/mol\n",
    "\n",
    "\"\"\"Coeficientes estequiométricos\"\"\"\n",
    "coefA = Constant(-1.0)\n",
    "coefB = Constant(1.0)\n",
    "\n",
    "\"\"\"Propiedades del refrigerante (agua)\"\"\"\n",
    "Twall = Constant(298) #K\n",
    "Uw = Constant(1300) #W/m2.K          # Coeficiente de transporte de calor de la pared del lecho al agua\n",
    "\n",
    "def k_r(Temperature):\n",
    "    \"\"\"expresión matemática de la constante cinética en función de T\"\"\"\n",
    "    k = A_k * exp(-Ea_k/Temperature/R)\n",
    "    return k\n",
    "def Rxn(T,CA):\n",
    "    return k_r(T)*CA\n",
    "def robs_p(T,CA):\n",
    "    return Rxn(T,CA)*1 #unidades=mol/s.m^3F"
   ]
  },
  {
   "cell_type": "code",
   "execution_count": 6,
   "metadata": {},
   "outputs": [],
   "source": [
    "# Definición del problema variacional (F==0) #\n",
    "r = Expression('abs(x[0])', degree=1) #Variable radio\n",
    "\n",
    "F_A = 0   +((u_A-u_An)/dt)*v_A*dx                       #Termino temporal\n",
    "F_A = F_A + uz*Dx(u_A,1)*v_A*dx                         #Termino convectivo\n",
    "F_A = F_A + Der/r*Dx(u_A,0)*v_A*dx                      #Termino Difusivo radial 1\n",
    "F_A = F_A + Der*Dx(u_A,0)*Dx(v_A,0)*dx                  #Termino Difusivo radial 2\n",
    "F_A = F_A + Dez*Dx(u_A,1)*Dx(v_A,1)*dx                  #Termino Difusivo axial\n",
    "F_A = F_A - coefA*robs_p(u_Tn,u_A)*v_A*dx               #Termino de generación/consumo por reacción\n",
    "F_A = F_A + uz*(u_A-CA_in)*v_A*ds_in                    #Condición de frontera tipo robin para la entrada\n",
    "\n",
    "F_B = 0   +((u_B-u_Bn)/dt)*v_B*dx                       #Termino temporal\n",
    "F_B = F_B + uz*Dx(u_B,1)*v_B*dx                         #Termino convectivo\n",
    "F_B = F_B + Der/r*Dx(u_B,0)*v_B*dx                      #Termino Difusivo radial 1\n",
    "F_B = F_B + Der*Dx(u_B,0)*Dx(v_B,0)*dx                  #Termino Difusivo radial 2\n",
    "F_B = F_B + Dez*Dx(u_B,1)*Dx(v_B,1)*dx                  #Termino Difusivo axial\n",
    "F_B = F_B - coefB*robs_p(u_Tn,u_A)*v_B*dx               #Termino de generación/consumo por reacción\n",
    "F_B = F_B + uz*(u_B-CB_in)*v_B*ds_in                    #Condición de frontera tipo robin para la entrada\n",
    " \n",
    "F_T = 0   +(rhoM*CpM*(u_T - u_Tn)/dt)*v_T*dx            #Termino temporal\n",
    "F_T = F_T + uz*rhoM*CpM*Dx(u_T,1)*v_T*dx                #Termino convectivo\n",
    "F_T = F_T + ker/r*Dx(u_T,0)*v_T*dx                      #Termino Difusivo radial 1\n",
    "F_T = F_T + ker*Dx(u_T,0)*Dx(v_T,0)*dx                  #Termino Difusivo radial 2\n",
    "F_T = F_T + kez*Dx(u_T,1)*Dx(v_T,1)*dx                  #Termino Difusivo axial\n",
    "F_T = F_T - robs_p(u_Tn,u_A)*(-DeltaH)*v_T*dx           #Termino de calor de reacción\n",
    "F_T = F_T + uz*rhoM*CpM*(u_T-T_in)*v_T*ds_in            #Condición de frontera tipo robin para la entrada\n",
    "F_T = F_T + Uw*(u_T - Twall)*v_T*ds_wall                #Condición de frontera tipo robin para las paredes\n",
    "\n",
    "F = F_A + F_B + F_T"
   ]
  },
  {
   "cell_type": "code",
   "execution_count": null,
   "metadata": {
    "scrolled": true
   },
   "outputs": [
    {
     "name": "stdout",
     "output_type": "stream",
     "text": [
      "solver done\n",
      "71 out of 200\n"
     ]
    }
   ],
   "source": [
    "#Formato VTK\n",
    "vtkfile_A = File('solucion_transitorio_AE_NINA/sol_CA.pvd')\n",
    "vtkfile_B = File('solucion_transitorio_AE_NINA/sol_CB.pvd')\n",
    "vtkfile_T = File('solucion_transitorio_AE_NINA/sol_T.pvd')\n",
    "#PETScOptions.set(\"-mat_mumps_cntl_1\", 0.05) \n",
    "for n in range(num_steps):\n",
    "    clear_output(wait=True)\n",
    "    print('{} out of {}'.format(n, num_steps))\n",
    "    t += delta_t  # Actualizamos el tiempo\n",
    "\n",
    "    # Resolvemos el problema variacional para este time step\n",
    "    solve(F == 0, u, solver_parameters={\"newton_solver\": {\n",
    "            \"relative_tolerance\": 1e-6,\n",
    "            \"absolute_tolerance\": 1e-6,\n",
    "            \"maximum_iterations\": 10}})\n",
    "    print('solver done')\n",
    "\n",
    "    # Guardamos solución\n",
    "    _u_A, _u_B, _u_T = u_n.split()\n",
    "    vtkfile_A << (_u_A, t)\n",
    "    vtkfile_B << (_u_B, t)\n",
    "    vtkfile_T << (_u_T, t)\n",
    "\n",
    "\n",
    "    u_n.assign(u)\n",
    "clear_output(wait=True)\n",
    "print(\"Done\")"
   ]
  },
  {
   "cell_type": "code",
   "execution_count": null,
   "metadata": {},
   "outputs": [],
   "source": [
    "print(\"Último perfil para A a lo largo de r y z\")\n",
    "plot(_u_A)"
   ]
  },
  {
   "cell_type": "code",
   "execution_count": null,
   "metadata": {},
   "outputs": [],
   "source": [
    "print(\"Último perfil para T a lo largo de r y z\")\n",
    "plot(_u_T)"
   ]
  },
  {
   "cell_type": "code",
   "execution_count": null,
   "metadata": {},
   "outputs": [],
   "source": [
    "error aproposito"
   ]
  },
  {
   "cell_type": "markdown",
   "metadata": {},
   "source": [
    "## OJO\n",
    "Ejecutar los bloques de abajo puede llegar a hacer que no se pueda graficar más con el plot \"nativo\" de FEniCS (como para generar el gráfico de arriba).  \n",
    "También hay algún bug con mezclar gráficos de Matplotlib y las calls de FEniCS a Matplotlib. Para solucionar esos gráficos, realizar todos, y volver a hacer los de perfiles 2D. Luego re-ejecutar los 3D. je (esto rompe los calls de FEniCS)."
   ]
  },
  {
   "cell_type": "code",
   "execution_count": null,
   "metadata": {},
   "outputs": [],
   "source": [
    "z=5\n",
    "CR=[]\n",
    "CA=[]\n",
    "CB=[]\n",
    "CT=[]\n",
    "for r in np.linspace(-PBR_R,PBR_R,100):\n",
    "    CR.append(r)\n",
    "    CA.append(_u_A(r,z))\n",
    "    CB.append(_u_B(r,z))\n",
    "    CT.append(_u_T(r,z))"
   ]
  },
  {
   "cell_type": "code",
   "execution_count": null,
   "metadata": {
    "scrolled": false
   },
   "outputs": [],
   "source": [
    "%matplotlib notebook\n",
    "import matplotlib.pyplot as plt\n",
    "plt.ion\n",
    "#plt.plot(CA)\n",
    "#plt.plot(CC)\n",
    "X=CR\n",
    "Y1=CA\n",
    "Y2=CB\n",
    "Y3=CT\n",
    "fig, axs = plt.subplots(3,sharex=True,figsize=(19.20/2,10.80/1.5)) #equivale a 1920x1080\n",
    "plt.xlabel(\"Posición radial\")\n",
    "fig.suptitle(\"Perfiles radiales en z=\"+str(z)+\"m\")\n",
    "\n",
    "axs[0].set(ylabel=\"Concentración\")\n",
    "axs[0].plot(X, Y1,linewidth=4,color='b')                   #gráfico de líneas\n",
    "axs[0].grid() #grilla\n",
    "#axs[0].set_xlim([2002, 2018]) #opcional definir rango para X, aplica a los 3 gráficos en conjunto\n",
    "axs[0].set_title('Concentración de A')\n",
    "\n",
    "axs[1].set(ylabel=\"Concentración\")\n",
    "axs[1].plot(X, Y2,linewidth=4,color='y')\n",
    "axs[1].grid()\n",
    "axs[1].set_title('Concentración de B')\n",
    "\n",
    "axs[2].set(ylabel=\"Temperatura\")\n",
    "axs[2].plot(X, Y3,linewidth=4,color='r')\n",
    "axs[2].grid()\n",
    "axs[2].set_title('Temperatura')\n",
    "plt.ion"
   ]
  },
  {
   "cell_type": "code",
   "execution_count": null,
   "metadata": {},
   "outputs": [],
   "source": [
    "z=0.30\n",
    "CR=[]\n",
    "CA=[]\n",
    "CB=[]\n",
    "CT=[]\n",
    "for r in np.linspace(-PBR_R,PBR_R,100):\n",
    "    CR.append(r)\n",
    "    CA.append(_u_A(r,z))\n",
    "    CB.append(_u_B(r,z))\n",
    "    CT.append(_u_T(r,z))"
   ]
  },
  {
   "cell_type": "code",
   "execution_count": null,
   "metadata": {},
   "outputs": [],
   "source": [
    "%matplotlib notebook\n",
    "import matplotlib.pyplot as plt\n",
    "plt.ion\n",
    "#plt.plot(CA)\n",
    "#plt.plot(CC)\n",
    "X=CR\n",
    "Y1=CA\n",
    "Y2=CB\n",
    "Y4=CT\n",
    "fig, axs = plt.subplots(4,sharex=True,figsize=(19.20/2,10.80/1.5)) #equivale a 1920x1080\n",
    "plt.xlabel(\"Posición radial\")\n",
    "fig.suptitle(\"Perfiles radiales en z=0.30m\")\n",
    "\n",
    "axs[0].set(ylabel=\"Concentración\")\n",
    "axs[0].plot(X, Y1,linewidth=4,color='b')                   #gráfico de líneas\n",
    "axs[0].grid() #grilla\n",
    "#axs[0].set_xlim([2002, 2018]) #opcional definir rango para X, aplica a los 3 gráficos en conjunto\n",
    "axs[0].set_title('Concentración de A')\n",
    "\n",
    "axs[1].set(ylabel=\"Concentración\")\n",
    "axs[1].plot(X, Y2,linewidth=4,color='y')\n",
    "axs[1].grid()\n",
    "axs[1].set_title('Concentración de B')\n",
    "\n",
    "axs[2].set(ylabel=\"Temperatura\")\n",
    "axs[2].plot(X, Y4,linewidth=4,color='r')\n",
    "axs[2].grid()\n",
    "axs[2].set_title('Temperatura')\n",
    "plt.ion"
   ]
  },
  {
   "cell_type": "code",
   "execution_count": null,
   "metadata": {},
   "outputs": [],
   "source": [
    "r=0\n",
    "CZ=[]\n",
    "CA=[]\n",
    "CB=[]\n",
    "CT=[]\n",
    "for z in np.linspace(0,PBR_L,100):\n",
    "    CZ.append(z)\n",
    "    CA.append(_u_A(r,z))\n",
    "    CB.append(_u_B(r,z))\n",
    "    CT.append(_u_T(r,z))"
   ]
  },
  {
   "cell_type": "code",
   "execution_count": null,
   "metadata": {
    "scrolled": false
   },
   "outputs": [],
   "source": [
    "%matplotlib notebook\n",
    "import matplotlib.pyplot as plt\n",
    "plt.ion\n",
    "#plt.plot(CA)\n",
    "#plt.plot(CC)\n",
    "X=CZ\n",
    "Y1=CA\n",
    "Y2=CB\n",
    "Y3=CT\n",
    "fig, axs = plt.subplots(3,sharex=True,figsize=(19.20/2,10.80/1.5)) #equivale a 1920x1080\n",
    "plt.xlabel(\"Posición axial\")\n",
    "fig.suptitle(\"Perfiles axiales en r=centro\")\n",
    "\n",
    "axs[0].set(ylabel=\"Concentración\")\n",
    "axs[0].plot(X, Y1,linewidth=4,color='b')                   #gráfico de líneas\n",
    "axs[0].grid() #grilla\n",
    "#axs[0].set_xlim([2002, 2018]) #opcional definir rango para X, aplica a los 3 gráficos en conjunto\n",
    "axs[0].set_title('Concentración de A')\n",
    "\n",
    "axs[1].set(ylabel=\"Concentración\")\n",
    "axs[1].plot(X, Y2,linewidth=4,color='y')\n",
    "axs[1].grid()\n",
    "axs[1].set_title('Concentración de B')\n",
    "\n",
    "axs[2].set(ylabel=\"Temperatura\")\n",
    "axs[2].plot(X, Y3,linewidth=4,color='r')\n",
    "axs[2].grid()\n",
    "axs[2].set_title('Temperatura')\n",
    "plt.ion"
   ]
  },
  {
   "cell_type": "code",
   "execution_count": null,
   "metadata": {},
   "outputs": [],
   "source": [
    "%matplotlib notebook\n",
    "plt.ion\n",
    "from mpl_toolkits import mplot3d\n",
    "CR=[]\n",
    "CZ=[]\n",
    "CA=[]\n",
    "CB=[]\n",
    "CT=[]\n",
    "for r in np.linspace(-PBR_R,PBR_R,100):\n",
    "    for z in np.linspace(0,PBR_L,100):\n",
    "        CR.append(r)\n",
    "        CZ.append(z)\n",
    "        CA.append(_u_A(r,z))\n",
    "        CB.append(_u_B(r,z))\n",
    "        CT.append(_u_T(r,z))\n",
    "CR=np.array(CR)\n",
    "CZ=np.array(CZ)\n",
    "CA=np.array(CA)\n",
    "CB=np.array(CB)\n",
    "CT=np.array(CT)"
   ]
  },
  {
   "cell_type": "code",
   "execution_count": null,
   "metadata": {},
   "outputs": [],
   "source": [
    "fig = plt.figure()\n",
    "ax = plt.axes(projection='3d')\n",
    "\n",
    "ax.plot_trisurf(CR,CZ,CA, cmap=plt.cm.Blues)\n",
    "ax.set_title('Concentración de A')\n",
    "plt.show()"
   ]
  },
  {
   "cell_type": "code",
   "execution_count": null,
   "metadata": {},
   "outputs": [],
   "source": [
    "fig = plt.figure()\n",
    "ax = plt.axes(projection='3d')\n",
    "\n",
    "ax.plot_trisurf(CR,CZ,CB, cmap=plt.cm.YlOrBr)\n",
    "ax.set_title('Concentración de B')\n",
    "plt.show()"
   ]
  },
  {
   "cell_type": "code",
   "execution_count": null,
   "metadata": {
    "scrolled": false
   },
   "outputs": [],
   "source": [
    "fig = plt.figure()\n",
    "ax = plt.axes(projection='3d')\n",
    "\n",
    "ax.plot_trisurf(CR,CZ,CT, cmap=plt.cm.Reds)\n",
    "ax.set_title('Temperatura')\n",
    "plt.show()"
   ]
  }
 ],
 "metadata": {
  "kernelspec": {
   "display_name": "Python 3",
   "language": "python",
   "name": "python3"
  },
  "language_info": {
   "codemirror_mode": {
    "name": "ipython",
    "version": 3
   },
   "file_extension": ".py",
   "mimetype": "text/x-python",
   "name": "python",
   "nbconvert_exporter": "python",
   "pygments_lexer": "ipython3",
   "version": "3.6.9"
  },
  "latex_envs": {
   "LaTeX_envs_menu_present": true,
   "autoclose": false,
   "autocomplete": true,
   "bibliofile": "biblio.bib",
   "cite_by": "apalike",
   "current_citInitial": 1,
   "eqLabelWithNumbers": true,
   "eqNumInitial": 1,
   "hotkeys": {
    "equation": "Ctrl-E",
    "itemize": "Ctrl-I"
   },
   "labels_anchors": false,
   "latex_user_defs": false,
   "report_style_numbering": false,
   "user_envs_cfg": false
  }
 },
 "nbformat": 4,
 "nbformat_minor": 4
}
